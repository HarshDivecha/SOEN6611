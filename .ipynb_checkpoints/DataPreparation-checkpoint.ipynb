{
 "cells": [
  {
   "cell_type": "markdown",
   "metadata": {},
   "source": [
    "# Data Preparation:\n",
    "---"
   ]
  },
  {
   "cell_type": "code",
   "execution_count": 7,
   "metadata": {},
   "outputs": [],
   "source": [
    "import functions\n",
    "import pandas as pd\n",
    "from sklearn import *;\n",
    "import matplotlib.pyplot as plt\n",
    "import seaborn as sns\n",
    "from imblearn.combine import SMOTETomek\n",
    "\n",
    "\n",
    "def balance_sample_prepare(traindf,sampleSize=15000):\n",
    "    data1 = traindf[traindf['designDefect']==1]\n",
    "    data0 = traindf[traindf['designDefect']==0]\n",
    "    data0 = data0.sample(sampleSize)\n",
    "    traindf = data0\n",
    "    traindf = traindf.append(data1)\n",
    "    y = traindf.pop('designDefect')\n",
    "    X = traindf\n",
    "    smt = SMOTETomek(ratio='auto')\n",
    "    X_smt, y_smt = smt.fit_sample(X, y)\n",
    "    \n",
    "    df = pd.DataFrame(X,columns=columns[:-2])\n",
    "    df['designDefect'] = 0\n",
    "    df['designDefect'] = y\n",
    "    \n",
    "    for col in df:\n",
    "        df[col] = df[col].astype(int)\n",
    "    \n",
    "    return df"
   ]
  },
  {
   "cell_type": "code",
   "execution_count": 8,
   "metadata": {},
   "outputs": [],
   "source": [
    "# READ AND CREATE A SINGLE TRAINING DATASET\n",
    "\n",
    "mockito = functions.process_project_data('mockito',exploratory=True)\n",
    "wildfly = functions.process_project_data('wildfly',exploratory=True)\n",
    "ant = functions.process_project_data('ant',exploratory=True)\n",
    "\n",
    "\n",
    "mockito = functions.limit_data_dict(mockito)\n",
    "wildfly = functions.limit_data_dict(wildfly)\n",
    "ant = functions.limit_data_dict(ant)\n",
    "\n",
    "columns = mockito[list(mockito.keys())[0]].columns\n",
    "traindf = pd.DataFrame(columns=columns)\n",
    "\n",
    "for ver in mockito:\n",
    "    traindf = traindf.append(mockito[ver],sort=True)\n",
    "for ver in wildfly:\n",
    "    traindf = traindf.append(wildfly[ver],sort=True)\n",
    "for ver in ant:\n",
    "    traindf = traindf.append(ant[ver],sort=True)"
   ]
  },
  {
   "cell_type": "markdown",
   "metadata": {},
   "source": [
    "### Balance of classes:"
   ]
  },
  {
   "cell_type": "code",
   "execution_count": 12,
   "metadata": {},
   "outputs": [
    {
     "name": "stdout",
     "output_type": "stream",
     "text": [
      "\n",
      "\n",
      "designDefect\n",
      "0    258936\n",
      "1     14853\n",
      "Name: designDefect, dtype: int64\n",
      "\n",
      " OUTPUT = 1, REPRESENS ONLY : 5  PRECENT OF THE TOTAL DATA \n",
      "\n"
     ]
    },
    {
     "data": {
      "image/png": "[encoded data removed]",
      "text/plain": [
       "<Figure size 432x288 with 1 Axes>"
      ]
     },
     "metadata": {},
     "output_type": "display_data"
    }
   ],
   "source": [
    "# CHECK THE BALANCE OF DATASET\n",
    "d = traindf.groupby('designDefect')['designDefect'].count()\n",
    "d.plot(kind = 'bar')\n",
    "print('\\n')\n",
    "print(d)\n",
    "print(\"\\n OUTPUT = 1, REPRESENS ONLY : %d  PRECENT OF THE TOTAL DATA \\n\"% ((d[1]/d[0])*100))"
   ]
  },
  {
   "cell_type": "markdown",
   "metadata": {},
   "source": [
    "**BALANCING USING SMOTE:**\n",
    "- Smote is a Machine Leanrning based balancing algorithm.\n",
    "- Uses KNN to distinguish the classes."
   ]
  },
  {
   "cell_type": "code",
   "execution_count": 4,
   "metadata": {},
   "outputs": [
    {
     "name": "stderr",
     "output_type": "stream",
     "text": [
      "/home/harsh/anaconda3/lib/python3.6/site-packages/imblearn/utils/_validation.py:93: UserWarning: 'y' should be of types ('binary', 'multiclass', 'multilabel-indicator') only. Got unknown instead.\n",
      "  TARGET_KIND, type_of_target(y)))\n",
      "/home/harsh/anaconda3/lib/python3.6/site-packages/imblearn/utils/_validation.py:93: UserWarning: 'y' should be of types ('binary', 'multiclass', 'multilabel-indicator') only. Got unknown instead.\n",
      "  TARGET_KIND, type_of_target(y)))\n",
      "/home/harsh/anaconda3/lib/python3.6/site-packages/imblearn/utils/_validation.py:93: UserWarning: 'y' should be of types ('binary', 'multiclass', 'multilabel-indicator') only. Got unknown instead.\n",
      "  TARGET_KIND, type_of_target(y)))\n",
      "/home/harsh/anaconda3/lib/python3.6/site-packages/imblearn/utils/_validation.py:93: UserWarning: 'y' should be of types ('binary', 'multiclass', 'multilabel-indicator') only. Got unknown instead.\n",
      "  TARGET_KIND, type_of_target(y)))\n"
     ]
    }
   ],
   "source": [
    "traindf = balance_sample_prepare(traindf,30000)"
   ]
  },
  {
   "cell_type": "code",
   "execution_count": 5,
   "metadata": {},
   "outputs": [
    {
     "name": "stdout",
     "output_type": "stream",
     "text": [
      "\n",
      "\n",
      "designDefect\n",
      "0    30000\n",
      "1    14853\n",
      "Name: designDefect, dtype: int64\n",
      "\n",
      " OUTPUT = 1, NOW REPRESENTS : 49  PRECENT OF THE TOTAL DATA \n",
      "\n"
     ]
    },
    {
     "data": {
      "image/png": "[encoded data removed]",
      "text/plain": [
       "<Figure size 432x288 with 1 Axes>"
      ]
     },
     "metadata": {},
     "output_type": "display_data"
    }
   ],
   "source": [
    "# CHECK THE BALANCE OF DATASET\n",
    "# AFTER BALANCING \n",
    "\n",
    "d = traindf.groupby('designDefect')['designDefect'].count()\n",
    "d.plot(kind = 'bar')\n",
    "print('\\n')\n",
    "print(d)\n",
    "print(\"\\n OUTPUT = 1, NOW REPRESENTS : %d  PRECENT OF THE TOTAL DATA \\n\"% ((d[1]/d[0])*100))"
   ]
  },
  {
   "cell_type": "markdown",
   "metadata": {},
   "source": [
    "---\n",
    "### Export for Model preparation:\n",
    "---"
   ]
  },
  {
   "cell_type": "code",
   "execution_count": 13,
   "metadata": {},
   "outputs": [],
   "source": [
    "traindf.to_csv('data/trainset.csv')"
   ]
  }
 ],
 "metadata": {
  "kernelspec": {
   "display_name": "Python 3",
   "language": "python",
   "name": "python3"
  },
  "language_info": {
   "codemirror_mode": {
    "name": "ipython",
    "version": 3
   },
   "file_extension": ".py",
   "mimetype": "text/x-python",
   "name": "python",
   "nbconvert_exporter": "python",
   "pygments_lexer": "ipython3",
   "version": "3.6.5"
  }
 },
 "nbformat": 4,
 "nbformat_minor": 2
}
