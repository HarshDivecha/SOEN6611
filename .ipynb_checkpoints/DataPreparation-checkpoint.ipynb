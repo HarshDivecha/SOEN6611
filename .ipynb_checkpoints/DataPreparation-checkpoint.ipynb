{
 "cells": [
  {
   "cell_type": "code",
   "execution_count": 1,
   "metadata": {},
   "outputs": [],
   "source": [
    "import functions\n",
    "import pandas as pd\n",
    "from sklearn import *;\n",
    "import matplotlib.pyplot as plt\n",
    "import seaborn as sns\n",
    "from imblearn.under_sampling import RandomUnderSampler\n"
   ]
  },
  {
   "cell_type": "markdown",
   "metadata": {},
   "source": [
    "## Preparing training data\n",
    " Observations:\n",
    " - Highly biased dataset.\n",
    " - In this scenario we will be randomly undersampling the majority class."
   ]
  },
  {
   "cell_type": "code",
   "execution_count": 2,
   "metadata": {},
   "outputs": [],
   "source": [
    "# READ AND CREATE A SINGLE TRAINING DATASET\n",
    "mockito = functions.process_project_data('mockito',exploratory=True)\n",
    "wildfly = functions.process_project_data('wildfly',exploratory=True)\n",
    "\n",
    "mockito = functions.limit_data_dict(mockito)\n",
    "wildfly = functions.limit_data_dict(wildfly)\n",
    "\n",
    "columns = mockito[list(mockito.keys())[0]].columns\n",
    "traindf = pd.DataFrame(columns=columns)\n",
    "\n",
    "for ver in mockito:\n",
    "    traindf = traindf.append(mockito[ver],sort=True)\n",
    "for ver in wildfly:\n",
    "    traindf = traindf.append(wildfly[ver],sort=True)\n",
    "    \n",
    "traindf.drop('code_smell',axis=1,inplace=True)"
   ]
  },
  {
   "cell_type": "code",
   "execution_count": 3,
   "metadata": {},
   "outputs": [
    {
     "data": {
      "text/plain": [
       "bug\n",
       "0    232434\n",
       "1     11074\n",
       "Name: bug, dtype: int64"
      ]
     },
     "execution_count": 3,
     "metadata": {},
     "output_type": "execute_result"
    }
   ],
   "source": [
    "# CHECK THE BALANCE OF DATASET\n",
    "traindf.groupby('bug')['bug'].count()"
   ]
  },
  {
   "cell_type": "code",
   "execution_count": null,
   "metadata": {},
   "outputs": [],
   "source": []
  },
  {
   "cell_type": "code",
   "execution_count": 4,
   "metadata": {},
   "outputs": [],
   "source": [
    "data1 = traindf[traindf.bug==1]\n",
    "data0 = traindf[traindf.bug==0]\n",
    "data0 = data0.sample(n=15000)"
   ]
  },
  {
   "cell_type": "code",
   "execution_count": 5,
   "metadata": {},
   "outputs": [],
   "source": [
    "traindf = data0\n",
    "traindf = traindf.append(data1)"
   ]
  },
  {
   "cell_type": "code",
   "execution_count": null,
   "metadata": {},
   "outputs": [],
   "source": []
  },
  {
   "cell_type": "code",
   "execution_count": null,
   "metadata": {},
   "outputs": [],
   "source": [
    "# SEPARATE INTO TRAINING AND TESTING SET\n",
    "y = traindf.pop('bug')\n",
    "x = traindf\n",
    "\n",
    "#UNDERSAMPLING THE MAJORITY CLASS\n",
    "randomSampler = RandomUnderSampler(sampling_strategy='majority')\n",
    "X,y = randomSampler.fit_resample(X=x,y=y)"
   ]
  },
  {
   "cell_type": "code",
   "execution_count": null,
   "metadata": {},
   "outputs": [],
   "source": [
    "# CHECKING THE BALANCE AFTER SAMPLING\n",
    "df = pd.DataFrame(y)\n",
    "df.columns=['0']\n",
    "df.groupby('0')['0'].count()"
   ]
  },
  {
   "cell_type": "markdown",
   "metadata": {},
   "source": [
    "X = X.astype(int)\n",
    "y = y.astype(int)"
   ]
  },
  {
   "cell_type": "code",
   "execution_count": null,
   "metadata": {},
   "outputs": [],
   "source": [
    "X = pd.DataFrame(X,columns=columns[:-2])\n",
    "X['bug'] = 0\n",
    "X['bug'] = y"
   ]
  },
  {
   "cell_type": "markdown",
   "metadata": {},
   "source": [
    "---"
   ]
  },
  {
   "cell_type": "code",
   "execution_count": null,
   "metadata": {},
   "outputs": [],
   "source": [
    "X.bug.unique()"
   ]
  },
  {
   "cell_type": "code",
   "execution_count": null,
   "metadata": {},
   "outputs": [],
   "source": [
    "X.to_csv('data/trainset.csv')"
   ]
  },
  {
   "cell_type": "code",
   "execution_count": null,
   "metadata": {},
   "outputs": [],
   "source": []
  },
  {
   "cell_type": "code",
   "execution_count": null,
   "metadata": {},
   "outputs": [],
   "source": []
  },
  {
   "cell_type": "code",
   "execution_count": null,
   "metadata": {},
   "outputs": [],
   "source": []
  },
  {
   "cell_type": "code",
   "execution_count": 6,
   "metadata": {},
   "outputs": [],
   "source": [
    "for col in traindf:\n",
    "    traindf[col] = traindf[col].astype(int)\n",
    "    "
   ]
  },
  {
   "cell_type": "code",
   "execution_count": 7,
   "metadata": {},
   "outputs": [
    {
     "data": {
      "text/html": [
       "<div>\n",
       "<style scoped>\n",
       "    .dataframe tbody tr th:only-of-type {\n",
       "        vertical-align: middle;\n",
       "    }\n",
       "\n",
       "    .dataframe tbody tr th {\n",
       "        vertical-align: top;\n",
       "    }\n",
       "\n",
       "    .dataframe thead th {\n",
       "        text-align: right;\n",
       "    }\n",
       "</style>\n",
       "<table border=\"1\" class=\"dataframe\">\n",
       "  <thead>\n",
       "    <tr style=\"text-align: right;\">\n",
       "      <th></th>\n",
       "      <th>bug</th>\n",
       "      <th>cbo</th>\n",
       "      <th>cyclomatic</th>\n",
       "      <th>dit</th>\n",
       "      <th>lcom</th>\n",
       "      <th>noc</th>\n",
       "      <th>rfc</th>\n",
       "      <th>wmc</th>\n",
       "    </tr>\n",
       "  </thead>\n",
       "  <tbody>\n",
       "    <tr>\n",
       "      <th>count</th>\n",
       "      <td>31074.000000</td>\n",
       "      <td>31074.000000</td>\n",
       "      <td>31074.000000</td>\n",
       "      <td>31074.000000</td>\n",
       "      <td>31074.000000</td>\n",
       "      <td>31074.000000</td>\n",
       "      <td>31074.000000</td>\n",
       "      <td>31074.000000</td>\n",
       "    </tr>\n",
       "    <tr>\n",
       "      <th>mean</th>\n",
       "      <td>0.356375</td>\n",
       "      <td>0.410440</td>\n",
       "      <td>1.366255</td>\n",
       "      <td>0.218543</td>\n",
       "      <td>1.674036</td>\n",
       "      <td>0.074886</td>\n",
       "      <td>0.809841</td>\n",
       "      <td>2.729098</td>\n",
       "    </tr>\n",
       "    <tr>\n",
       "      <th>std</th>\n",
       "      <td>0.478936</td>\n",
       "      <td>1.886143</td>\n",
       "      <td>2.874344</td>\n",
       "      <td>0.601248</td>\n",
       "      <td>8.491301</td>\n",
       "      <td>0.965046</td>\n",
       "      <td>3.572438</td>\n",
       "      <td>5.129657</td>\n",
       "    </tr>\n",
       "    <tr>\n",
       "      <th>min</th>\n",
       "      <td>0.000000</td>\n",
       "      <td>0.000000</td>\n",
       "      <td>0.000000</td>\n",
       "      <td>0.000000</td>\n",
       "      <td>0.000000</td>\n",
       "      <td>0.000000</td>\n",
       "      <td>0.000000</td>\n",
       "      <td>0.000000</td>\n",
       "    </tr>\n",
       "    <tr>\n",
       "      <th>25%</th>\n",
       "      <td>0.000000</td>\n",
       "      <td>0.000000</td>\n",
       "      <td>0.000000</td>\n",
       "      <td>0.000000</td>\n",
       "      <td>0.000000</td>\n",
       "      <td>0.000000</td>\n",
       "      <td>0.000000</td>\n",
       "      <td>1.000000</td>\n",
       "    </tr>\n",
       "    <tr>\n",
       "      <th>50%</th>\n",
       "      <td>0.000000</td>\n",
       "      <td>0.000000</td>\n",
       "      <td>1.000000</td>\n",
       "      <td>0.000000</td>\n",
       "      <td>0.000000</td>\n",
       "      <td>0.000000</td>\n",
       "      <td>0.000000</td>\n",
       "      <td>1.000000</td>\n",
       "    </tr>\n",
       "    <tr>\n",
       "      <th>75%</th>\n",
       "      <td>1.000000</td>\n",
       "      <td>0.000000</td>\n",
       "      <td>1.000000</td>\n",
       "      <td>0.000000</td>\n",
       "      <td>0.000000</td>\n",
       "      <td>0.000000</td>\n",
       "      <td>0.000000</td>\n",
       "      <td>3.000000</td>\n",
       "    </tr>\n",
       "    <tr>\n",
       "      <th>max</th>\n",
       "      <td>1.000000</td>\n",
       "      <td>47.000000</td>\n",
       "      <td>58.000000</td>\n",
       "      <td>7.000000</td>\n",
       "      <td>59.000000</td>\n",
       "      <td>58.000000</td>\n",
       "      <td>58.000000</td>\n",
       "      <td>59.000000</td>\n",
       "    </tr>\n",
       "  </tbody>\n",
       "</table>\n",
       "</div>"
      ],
      "text/plain": [
       "                bug           cbo    cyclomatic           dit          lcom  \\\n",
       "count  31074.000000  31074.000000  31074.000000  31074.000000  31074.000000   \n",
       "mean       0.356375      0.410440      1.366255      0.218543      1.674036   \n",
       "std        0.478936      1.886143      2.874344      0.601248      8.491301   \n",
       "min        0.000000      0.000000      0.000000      0.000000      0.000000   \n",
       "25%        0.000000      0.000000      0.000000      0.000000      0.000000   \n",
       "50%        0.000000      0.000000      1.000000      0.000000      0.000000   \n",
       "75%        1.000000      0.000000      1.000000      0.000000      0.000000   \n",
       "max        1.000000     47.000000     58.000000      7.000000     59.000000   \n",
       "\n",
       "                noc           rfc           wmc  \n",
       "count  31074.000000  31074.000000  31074.000000  \n",
       "mean       0.074886      0.809841      2.729098  \n",
       "std        0.965046      3.572438      5.129657  \n",
       "min        0.000000      0.000000      0.000000  \n",
       "25%        0.000000      0.000000      1.000000  \n",
       "50%        0.000000      0.000000      1.000000  \n",
       "75%        0.000000      0.000000      3.000000  \n",
       "max       58.000000     58.000000     59.000000  "
      ]
     },
     "execution_count": 7,
     "metadata": {},
     "output_type": "execute_result"
    }
   ],
   "source": [
    "traindf.describe()"
   ]
  },
  {
   "cell_type": "code",
   "execution_count": 8,
   "metadata": {},
   "outputs": [],
   "source": [
    "traindf.to_csv('data/trainset.csv')"
   ]
  }
 ],
 "metadata": {
  "kernelspec": {
   "display_name": "Python 3",
   "language": "python",
   "name": "python3"
  },
  "language_info": {
   "codemirror_mode": {
    "name": "ipython",
    "version": 3
   },
   "file_extension": ".py",
   "mimetype": "text/x-python",
   "name": "python",
   "nbconvert_exporter": "python",
   "pygments_lexer": "ipython3",
   "version": "3.6.5"
  }
 },
 "nbformat": 4,
 "nbformat_minor": 2
}
