{
 "cells": [
  {
   "cell_type": "code",
   "execution_count": 4,
   "metadata": {},
   "outputs": [],
   "source": [
    "import pandas as pd\n",
    "import seaborn as sns\n",
    "import matplotlib.pyplot as plt\n",
    "import os"
   ]
  },
  {
   "cell_type": "markdown",
   "metadata": {},
   "source": [
    "**Read all CSV files in a folder into a single dictionary**"
   ]
  },
  {
   "cell_type": "code",
   "execution_count": 188,
   "metadata": {},
   "outputs": [],
   "source": [
    "def createDataDict(projectDirName = str):\n",
    "       \n",
    "    def cleanDataFrame(df = pd.DataFrame):\n",
    "        df = df[df.Kind!='File']\n",
    "        df = df.rename(columns={'CountClassCoupled':'cbo',\n",
    "                                    'MaxInheritanceTree':'dit',\n",
    "                                    'SumCyclomatic':'wmc',\n",
    "                                    'CountClassDerived':'noc',\n",
    "                                    'PercentLackOfCohesion':'lcom',\n",
    "                                    'CountDeclMethodAll':'rfc',\n",
    "                                    'Cyclomatic':'cyclomatic',})\n",
    "        df.drop('CountLine',axis=1,inplace=True)\n",
    "        df.drop('CountLineCode',axis=1,inplace=True)\n",
    "        df.drop('Name',axis=1,inplace=True)\n",
    "        df.drop('Kind',axis=1,inplace=True)\n",
    "        return df\n",
    "\n",
    "    path = os.getcwd()+\"/data/\"+projectDirName+\"/\"\n",
    "    directoryFiles = os.listdir(path)\n",
    "\n",
    "    versions = [ int(string.split('.')[1]) for string in directoryFiles]\n",
    "    versions.sort(reverse=False)\n",
    "\n",
    "    dataDict = dict()\n",
    "   \n",
    "    for version in versions:\n",
    "        version = str(version)\n",
    "        for file in directoryFiles:\n",
    "                if version in file:\n",
    "                    dataDict[file] = pd.read_csv(path+file)\n",
    "                    dataDict[file] = cleanDataFrame(pd.read_csv(path+file))\n",
    "                    \n",
    "    \n",
    "    return dataDict"
   ]
  },
  {
   "cell_type": "code",
   "execution_count": 187,
   "metadata": {},
   "outputs": [],
   "source": []
  },
  {
   "cell_type": "markdown",
   "metadata": {},
   "source": [
    "---\n",
    "**Implementation:**\n",
    "\n",
    "---"
   ]
  },
  {
   "cell_type": "code",
   "execution_count": 189,
   "metadata": {},
   "outputs": [],
   "source": [
    "## READ FILES INTO DICTIONARY ##\n",
    "\n",
    "#mockito = createDataDict(\"Mockito\")\n",
    "#ant = createDataDict(\"Ant\")\n",
    "wildFly = createDataDict(\"WildFly\")"
   ]
  },
  {
   "cell_type": "code",
   "execution_count": null,
   "metadata": {},
   "outputs": [],
   "source": []
  }
 ],
 "metadata": {
  "kernelspec": {
   "display_name": "Python 3",
   "language": "python",
   "name": "python3"
  },
  "language_info": {
   "codemirror_mode": {
    "name": "ipython",
    "version": 3
   },
   "file_extension": ".py",
   "mimetype": "text/x-python",
   "name": "python",
   "nbconvert_exporter": "python",
   "pygments_lexer": "ipython3",
   "version": "3.6.5"
  }
 },
 "nbformat": 4,
 "nbformat_minor": 2
}
