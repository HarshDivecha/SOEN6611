{
 "cells": [
  {
   "cell_type": "markdown",
   "metadata": {},
   "source": [
    "### Methodology Followed:\n",
    "\n",
    "**OverView:**\n",
    "- ACRONYMS : \n",
    "    - **UBLR** : Univariate binary logistic regression\n",
    "    - **MBLR** : Multivariate binary logistic regression.\n",
    "<br><br>\n",
    "- METHODOLOGY :\n",
    "    - **UBLR of metrics versus faults** : Determine which metrics are statistically significant.\n",
    "    - **Collinearity analysis** : Determine which metrics to include in the model.\n",
    "    - **Develop the model** : If time permits.\n"
   ]
  },
  {
   "cell_type": "markdown",
   "metadata": {},
   "source": [
    "\n",
    "# 1. Data Preparation\n",
    "---"
   ]
  },
  {
   "cell_type": "code",
   "execution_count": 15,
   "metadata": {},
   "outputs": [],
   "source": [
    "import pandas as pd\n",
    "import numpy as np\n",
    "import seaborn as sns\n",
    "\n",
    "data_V8  = pd.read_csv('data/v8.2.1.csv');\n",
    "data_v10 = pd.read_csv('data/v10.0.csv');\n",
    "data_v12 = pd.read_csv('data/v12.0.csv');\n",
    "data_v14 = pd.read_csv('data/wildflyv14.0.1.csv');\n",
    "data_v16 = pd.read_csv('data/wildfly.v16.0.csv');"
   ]
  },
  {
   "cell_type": "code",
   "execution_count": 16,
   "metadata": {},
   "outputs": [
    {
     "name": "stdout",
     "output_type": "stream",
     "text": [
      "Kind\n",
      "Name\n",
      "CountClassCoupled\n",
      "CountLineCode\n",
      "Cyclomatic\n",
      "MaxInheritanceTree\n",
      "PercentLackOfCohesion\n",
      "SumCyclomatic\n"
     ]
    }
   ],
   "source": [
    "# print columns in file:\n",
    "\n",
    "for col in data_v10.columns :\n",
    "    print (col)"
   ]
  },
  {
   "cell_type": "markdown",
   "metadata": {},
   "source": [
    "Studied in class:\n",
    "wmc\n",
    "dit\n",
    "noc\n",
    "cbo\n",
    "rfc\n",
    "lcom\n",
    "\n",
    "extra\n",
    "nloc\n",
    "sloc\n",
    "cyclomatic\n"
   ]
  },
  {
   "cell_type": "markdown",
   "metadata": {},
   "source": [
    "### Columns:\n",
    "Renaming columns for readability and ease of use\n",
    "- Kind : **kind**\n",
    "- Name : **name**\n",
    "- CountClassCoupled : **cbo**\n",
    "- CountLineCode : **sloc**\n",
    "- Cyclomatic : **cyclomatic (Cyclomatic Complexity)**\n",
    "- MaxInheritanceTree : **dit**\n",
    "- PercentLackOfCohesion : **lcom**\n",
    "- SumCyclomatic : **wmc**"
   ]
  },
  {
   "cell_type": "code",
   "execution_count": 17,
   "metadata": {},
   "outputs": [],
   "source": [
    "newColumns = ['kind','name','cbo','sloc','cyclomatic','dit','lcom','wmc'];\n",
    "data_v10.columns = newColumns;"
   ]
  },
  {
   "cell_type": "markdown",
   "metadata": {},
   "source": [
    "---\n",
    "# 2. Exploratory Data Analysis\n",
    "---"
   ]
  },
  {
   "cell_type": "markdown",
   "metadata": {},
   "source": [
    "**Helper Functions:**\n",
    "- **getFaultBinary(dataFrame)** : \n",
    "    - uses bad smell criterias for binary classification\n",
    "    - creates faultProne column (Binary)\n",
    "- **getFaultyData( dataFrame, columname )**:\n",
    "    - returns rows with faultProne=1"
   ]
  },
  {
   "cell_type": "code",
   "execution_count": 18,
   "metadata": {},
   "outputs": [],
   "source": [
    "def getFaultBinary(data):\n",
    "    \n",
    "    data['faultProne']=0;\n",
    "\n",
    "    def binaryFaultProne(row):\n",
    "\n",
    "        #Long Method\n",
    "        if row.cyclomatic > 5:\n",
    "            row['faultProne'] = 1;\n",
    "        #Large Class\n",
    "        if row.dit > 5 :\n",
    "            row['faultProne'] = 1;\n",
    "        #Feature Envy    \n",
    "        if row.cbo > 5 :\n",
    "            row['faultProne'] = 1;\n",
    "        #Data Class\n",
    "        if row.lcom > 2 :\n",
    "            row['faultProne'] = 1;\n",
    "        #Large Class\n",
    "        if row.wmc > 10 :\n",
    "            row['faultProne'] = 1;\n",
    "\n",
    "        return row\n",
    "    \n",
    "    return data_v10.apply(lambda x:binaryFaultProne(x),axis=1);"
   ]
  },
  {
   "cell_type": "code",
   "execution_count": 31,
   "metadata": {},
   "outputs": [],
   "source": [
    "def getFaultyData( data = pd.DataFrame, col=''):\n",
    "    \n",
    "    if (col==''):\n",
    "        return data[data.faultProne==1];\n",
    "    else:\n",
    "        return data[data.faultProne==1][data[col].isnull()==False]\n",
    "    "
   ]
  },
  {
   "cell_type": "code",
   "execution_count": null,
   "metadata": {},
   "outputs": [],
   "source": []
  }
 ],
 "metadata": {
  "kernelspec": {
   "display_name": "Python 3",
   "language": "python",
   "name": "python3"
  },
  "language_info": {
   "codemirror_mode": {
    "name": "ipython",
    "version": 3
   },
   "file_extension": ".py",
   "mimetype": "text/x-python",
   "name": "python",
   "nbconvert_exporter": "python",
   "pygments_lexer": "ipython3",
   "version": "3.6.5"
  }
 },
 "nbformat": 4,
 "nbformat_minor": 2
}
