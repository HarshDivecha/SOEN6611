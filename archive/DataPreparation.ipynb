{
 "cells": [
  {
   "cell_type": "code",
   "execution_count": null,
   "metadata": {},
   "outputs": [],
   "source": [
    "import functions\n",
    "import pandas as pd\n",
    "from sklearn import *;\n",
    "import matplotlib.pyplot as plt\n",
    "import seaborn as sns\n",
    "from imblearn.combine import SMOTETomek\n"
   ]
  },
  {
   "cell_type": "markdown",
   "metadata": {},
   "source": [
    "## Preparing training data\n",
    " Observations:\n",
    " - Highly biased dataset.\n",
    " - In this scenario we will be randomly undersampling the majority class."
   ]
  },
  {
   "cell_type": "code",
   "execution_count": null,
   "metadata": {},
   "outputs": [],
   "source": []
  },
  {
   "cell_type": "code",
   "execution_count": null,
   "metadata": {},
   "outputs": [],
   "source": [
    "# READ AND CREATE A SINGLE TRAINING DATASET\n",
    "mockito = functions.process_project_data('mockito',exploratory=True)\n",
    "wildfly = functions.process_project_data('wildfly',exploratory=True)\n",
    "ant = functions.process_project_data('ant',exploratory=True)\n",
    "\n",
    "\n",
    "mockito = functions.limit_data_dict(mockito)\n",
    "wildfly = functions.limit_data_dict(wildfly)\n",
    "ant = functions.limit_data_dict(ant)\n",
    "\n",
    "columns = mockito[list(mockito.keys())[0]].columns\n",
    "traindf = pd.DataFrame(columns=columns)\n",
    "\n",
    "for ver in mockito:\n",
    "    traindf = traindf.append(mockito[ver],sort=True)\n",
    "for ver in wildfly:\n",
    "    traindf = traindf.append(wildfly[ver],sort=True)\n",
    "for ver in ant:\n",
    "    traindf = traindf.append(ant[ver],sort=True)\n",
    "    \n",
    "traindf.drop('code_smell',axis=1,inplace=True)"
   ]
  },
  {
   "cell_type": "code",
   "execution_count": null,
   "metadata": {},
   "outputs": [],
   "source": [
    "# CHECK THE BALANCE OF DATASET\n",
    "traindf.groupby('bug')['bug'].count().plot(kind = 'bar')\n",
    "traindf.groupby('bug')['bug'].count()"
   ]
  },
  {
   "cell_type": "code",
   "execution_count": null,
   "metadata": {},
   "outputs": [],
   "source": []
  },
  {
   "cell_type": "code",
   "execution_count": null,
   "metadata": {},
   "outputs": [],
   "source": [
    "def get_sampled_data(traindf,sampleSize=15000):\n",
    "    data1 = traindf[traindf.bug==1]\n",
    "    data0 = traindf[traindf.bug==0]\n",
    "    data0 = data0.sample(sampleSize)\n",
    "    traindf = data0\n",
    "    traindf = traindf.append(data1)\n",
    "    return traindf"
   ]
  },
  {
   "cell_type": "code",
   "execution_count": 5,
   "metadata": {},
   "outputs": [],
   "source": [
    "traindf = get_sampled_data(traindf,30000)"
   ]
  },
  {
   "cell_type": "code",
   "execution_count": null,
   "metadata": {},
   "outputs": [],
   "source": []
  },
  {
   "cell_type": "markdown",
   "metadata": {},
   "source": [
    "# SEPARATE INTO TRAINING AND TESTING SET\n"
   ]
  },
  {
   "cell_type": "code",
   "execution_count": 6,
   "metadata": {},
   "outputs": [
    {
     "name": "stderr",
     "output_type": "stream",
     "text": [
      "/home/harsh/anaconda3/lib/python3.6/site-packages/imblearn/utils/_validation.py:93: UserWarning: 'y' should be of types ('binary', 'multiclass', 'multilabel-indicator') only. Got unknown instead.\n",
      "  TARGET_KIND, type_of_target(y)))\n",
      "/home/harsh/anaconda3/lib/python3.6/site-packages/imblearn/utils/_validation.py:93: UserWarning: 'y' should be of types ('binary', 'multiclass', 'multilabel-indicator') only. Got unknown instead.\n",
      "  TARGET_KIND, type_of_target(y)))\n",
      "/home/harsh/anaconda3/lib/python3.6/site-packages/imblearn/utils/_validation.py:93: UserWarning: 'y' should be of types ('binary', 'multiclass', 'multilabel-indicator') only. Got unknown instead.\n",
      "  TARGET_KIND, type_of_target(y)))\n",
      "/home/harsh/anaconda3/lib/python3.6/site-packages/imblearn/utils/_validation.py:93: UserWarning: 'y' should be of types ('binary', 'multiclass', 'multilabel-indicator') only. Got unknown instead.\n",
      "  TARGET_KIND, type_of_target(y)))\n"
     ]
    }
   ],
   "source": [
    "\n",
    "y = traindf.pop('bug')\n",
    "X = traindf\n",
    "\n",
    "smt = SMOTETomek(ratio='auto')\n",
    "X_smt, y_smt = smt.fit_sample(X, y)\n"
   ]
  },
  {
   "cell_type": "code",
   "execution_count": 7,
   "metadata": {},
   "outputs": [
    {
     "data": {
      "text/plain": [
       "0\n",
       "0    30000\n",
       "1    14853\n",
       "Name: 0, dtype: int64"
      ]
     },
     "execution_count": 7,
     "metadata": {},
     "output_type": "execute_result"
    }
   ],
   "source": [
    "# CHECKING THE BALANCE AFTER SAMPLING\n",
    "df = pd.DataFrame(y)\n",
    "df.columns=['0']\n",
    "df.groupby('0')['0'].count()"
   ]
  },
  {
   "cell_type": "code",
   "execution_count": 8,
   "metadata": {},
   "outputs": [],
   "source": [
    "X = pd.DataFrame(X,columns=columns[:-2])\n",
    "X['bug'] = 0\n",
    "X['bug'] = y"
   ]
  },
  {
   "cell_type": "markdown",
   "metadata": {},
   "source": [
    "---"
   ]
  },
  {
   "cell_type": "code",
   "execution_count": 9,
   "metadata": {},
   "outputs": [
    {
     "data": {
      "text/plain": [
       "array([0, 1], dtype=object)"
      ]
     },
     "execution_count": 9,
     "metadata": {},
     "output_type": "execute_result"
    }
   ],
   "source": [
    "X.bug.unique()"
   ]
  },
  {
   "cell_type": "code",
   "execution_count": 10,
   "metadata": {},
   "outputs": [
    {
     "data": {
      "text/plain": [
       "Index(['cbo', 'noc', 'cyclomatic', 'dit', 'lcom', 'rfc', 'wmc', 'bug'], dtype='object')"
      ]
     },
     "execution_count": 10,
     "metadata": {},
     "output_type": "execute_result"
    }
   ],
   "source": [
    "X.columns"
   ]
  },
  {
   "cell_type": "code",
   "execution_count": 11,
   "metadata": {},
   "outputs": [],
   "source": [
    "for col in X:\n",
    "    X[col] = X[col].astype(int)\n",
    "    "
   ]
  },
  {
   "cell_type": "code",
   "execution_count": 13,
   "metadata": {},
   "outputs": [],
   "source": [
    "X.to_csv('data/trainset.csv')"
   ]
  },
  {
   "cell_type": "code",
   "execution_count": 12,
   "metadata": {},
   "outputs": [
    {
     "data": {
      "image/png": "[encoded data removed]",
      "text/plain": [
       "<Figure size 648x432 with 2 Axes>"
      ]
     },
     "metadata": {},
     "output_type": "display_data"
    }
   ],
   "source": [
    "\n",
    "plt.figure(figsize=(9,6))\n",
    "corr = X.corr(method='pearson')\n",
    "sns.heatmap(corr,annot=True)\n",
    "plt.show()"
   ]
  },
  {
   "cell_type": "code",
   "execution_count": null,
   "metadata": {},
   "outputs": [],
   "source": []
  },
  {
   "cell_type": "markdown",
   "metadata": {},
   "source": [
    "ant = functions.process_project_data('ant',exploratory=True)\n",
    "columns = ant[list(ant.keys())[0]].columns\n",
    "testdf = pd.DataFrame(columns=columns)\n",
    "\n",
    "for ver in ant:\n",
    "    testdf = testdf.append(ant[ver],sort=True)\n",
    "for ver in wildfly:\n",
    "    testdf = testdf.append(wildfly[ver],sort=True)\n",
    "    \n",
    "testdf.drop('code_smell',axis=1,inplace=True)"
   ]
  },
  {
   "cell_type": "code",
   "execution_count": null,
   "metadata": {},
   "outputs": [],
   "source": []
  },
  {
   "cell_type": "code",
   "execution_count": null,
   "metadata": {},
   "outputs": [],
   "source": []
  },
  {
   "cell_type": "code",
   "execution_count": null,
   "metadata": {},
   "outputs": [],
   "source": [
    "for col in traindf:\n",
    "    traindf[col] = traindf[col].astype(int)\n",
    "    "
   ]
  },
  {
   "cell_type": "code",
   "execution_count": null,
   "metadata": {},
   "outputs": [],
   "source": [
    "traindf.describe()"
   ]
  },
  {
   "cell_type": "code",
   "execution_count": null,
   "metadata": {},
   "outputs": [],
   "source": [
    "traindf.to_csv('data/trainset.csv')"
   ]
  }
 ],
 "metadata": {
  "kernelspec": {
   "display_name": "Python 3",
   "language": "python",
   "name": "python3"
  },
  "language_info": {
   "codemirror_mode": {
    "name": "ipython",
    "version": 3
   },
   "file_extension": ".py",
   "mimetype": "text/x-python",
   "name": "python",
   "nbconvert_exporter": "python",
   "pygments_lexer": "ipython3",
   "version": "3.6.5"
  }
 },
 "nbformat": 4,
 "nbformat_minor": 2
}
