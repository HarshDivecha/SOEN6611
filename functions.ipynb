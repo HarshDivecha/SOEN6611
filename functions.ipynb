{
 "cells": [
  {
   "cell_type": "code",
   "execution_count": 1,
   "metadata": {},
   "outputs": [],
   "source": [
    "import os\n",
    "import pandas as pd\n",
    "import numpy as np\n",
    "import seaborn as sns\n",
    "import matplotlib.pyplot as plt\n",
    "sns.set_style('darkgrid')\n"
   ]
  },
  {
   "cell_type": "markdown",
   "metadata": {},
   "source": [
    "#### CLEAN COLUMN NAMES \n"
   ]
  },
  {
   "cell_type": "code",
   "execution_count": 2,
   "metadata": {},
   "outputs": [],
   "source": [
    "def clean_column_name(df=pd.DataFrame()):\n",
    "    columns = [i.replace(' ','_').lower() for i in df.columns]\n",
    "    df.columns=columns\n",
    "    return df\n"
   ]
  },
  {
   "cell_type": "markdown",
   "metadata": {},
   "source": [
    "#### MAKE BUG DATA COMPATIBLE WITH METRICS DATA\n"
   ]
  },
  {
   "cell_type": "code",
   "execution_count": 3,
   "metadata": {},
   "outputs": [],
   "source": [
    "def aggregate_impBug_package_name(BugDf = pd.DataFrame()):\n",
    "    group = BugDf.groupby(['package_name','type_name','method_name'])['code_smell'].count()\n",
    "    group = group.reset_index()\n",
    "    group['name'] = ''\n",
    "    group['name'] = group.apply(lambda row: '%s.%s.%s'%(row['package_name'],row['type_name'],row['method_name']),axis=1)\n",
    "    return group\n",
    "\n",
    "def aggregate_designBug_package_name(BugDf = pd.DataFrame()):\n",
    "    group = BugDf.groupby(['package_name','type_name'])['code_smell'].count()\n",
    "    group = group.reset_index()\n",
    "    group['name'] = ''\n",
    "    group['name'] = group.apply(lambda row: '%s.%s'%(row['package_name'],row['type_name']),axis=1)\n",
    "    return group\n"
   ]
  },
  {
   "cell_type": "markdown",
   "metadata": {},
   "source": [
    "#### READING FILE:\n",
    "**note:**\n",
    "- usage :<br> *process_project_data(\"project_name\",exploratory=True)*"
   ]
  },
  {
   "cell_type": "code",
   "execution_count": 4,
   "metadata": {},
   "outputs": [],
   "source": [
    "#### Reading functions :\n",
    "#- Reads the files for the project\n",
    "#- Directory structure :\n",
    "#    - for metrics data : 'data/metrics/project_name/(project_name 0.0.0.csv)\n",
    "#    - for bugs data    : 'data/bugs/project_name/project_name version(0.0)/\n",
    "\n",
    "\n",
    "\n",
    "#This single Method is the one to be used for reading files:\n",
    "#Calls:\n",
    "    # -read_metrics_file()\n",
    "    # -read_bugs_file()\n",
    "\n",
    "def process_project_data(file,exploratory=False):\n",
    "    fileMetricsDict = read_metrics_file(file)\n",
    "    fileBugDict = read_bugs_file(file)\n",
    "    \n",
    "    data = dict()\n",
    "    for ver in fileMetricsDict.keys():\n",
    "        \n",
    "        bug = fileBugDict[ver]\n",
    "        met = fileMetricsDict[ver]\n",
    "        data[ver] = met.merge(bug,how='outer',on='name')\n",
    "        \n",
    "        # fill nan \n",
    "        #data[ver].code_smell = data[ver].code_smell.apply(lambda x: x if pd.notnull(x) else 0)\n",
    "        data[ver] = data[ver].fillna(value=0)\n",
    "        data[ver]['bug'] = data[ver].code_smell.apply(lambda x: 1 if x>0 else 0)\n",
    "        \n",
    "        data[ver] = data[ver].rename(columns={'countclasscoupled':'cbo',\n",
    "                                    'maxinheritancetree':'dit',\n",
    "                                    'sumcyclomatic':'wmc',\n",
    "                                    'countclassderived':'noc',\n",
    "                                    'percentlackofcohesion':'lcom',\n",
    "                                    'countdeclmethodall':'rfc',\n",
    "                                    'cyclomatic':'cyclomatic',\n",
    "                                            })\n",
    "        if exploratory == True:\n",
    "            data[ver].drop('name',axis=1,inplace=True)\n",
    "            data[ver].drop('kind',axis=1,inplace=True)\n",
    "            data[ver].drop('countline',axis=1,inplace=True)\n",
    "            data[ver].drop(['countlinecode','package_name','type_name','method_name'],axis=1,inplace=True)\n",
    "           \n",
    "    return data\n",
    "\n",
    "# MAKE METRICS DICTIONARY : project.version.df\n",
    "def read_metrics_file(file):\n",
    "    path = os.getcwd()+'/data/metrics/'+file\n",
    "    files = os.listdir(path)\n",
    "    metrics_dict = dict()\n",
    "\n",
    "    for file in files:\n",
    "        \n",
    "        ver_name = 'v'+file.split()[1].split('.')[1]\n",
    "        metrics_dict[ver_name] = pd.read_csv(path+'/'+file)\n",
    "        metrics_dict[ver_name] = clean_column_name(metrics_dict[ver_name])\n",
    "    \n",
    "    return metrics_dict\n",
    "\n",
    "# MAKE BUGS DICTIONARY : project.version.df\n",
    "# WILL RETURN A SINGLE BUGS DICTIONARY ( COMBO OF DESIGN AND IMPL BUGS)\n",
    "def read_bugs_file(file):\n",
    "    path = os.getcwd()+'/data/bugs/'+file+'/'\n",
    "    files = os.listdir(path) #will list file names\n",
    "    bugs_dict = dict()\n",
    "\n",
    "    for f in files:\n",
    "        nPath = path+f+'/'\n",
    "        ver_name = 'v'+f.split('.')[1]\n",
    "        \n",
    "        implementationSmells = pd.read_csv(nPath+'implementationCodeSmells.csv')\n",
    "        designCodeSmells = pd.read_csv(nPath+'designCodeSmells.csv')\n",
    "    \n",
    "        implementationSmells = clean_column_name(implementationSmells)\n",
    "        designCodeSmells = clean_column_name(designCodeSmells)\n",
    "\n",
    "        implementationSmells = aggregate_impBug_package_name(implementationSmells)\n",
    "        designCodeSmells = aggregate_designBug_package_name(designCodeSmells)\n",
    "\n",
    "        #MERGING DESIGN AND IMPLEMENTATION BUGS\n",
    "        bugsdata = implementationSmells.merge(designCodeSmells,how='outer')\n",
    "        bugs_dict[ver_name] = bugsdata\n",
    "        \n",
    "    return bugs_dict"
   ]
  },
  {
   "cell_type": "markdown",
   "metadata": {},
   "source": [
    "### Remove outliers:"
   ]
  },
  {
   "cell_type": "code",
   "execution_count": 5,
   "metadata": {},
   "outputs": [],
   "source": [
    "## REMOVE OUTLIERS\n",
    "def limit_data_dict(dic = dict()):\n",
    "   \n",
    "    for ver in dic :\n",
    "        df = dic[ver]\n",
    "        df = df[df.rfc<60]\n",
    "        df = df[df.wmc<60]\n",
    "        df = df[df.noc<60]\n",
    "        df = df[df.lcom<60]\n",
    "        df = df[df.cbo<60]\n",
    "        dic[ver] = df\n",
    "    return dic\n"
   ]
  },
  {
   "cell_type": "markdown",
   "metadata": {},
   "source": [
    "### Plotting Methods:"
   ]
  },
  {
   "cell_type": "code",
   "execution_count": 6,
   "metadata": {},
   "outputs": [],
   "source": [
    "def plot_heatMaps(df=pd.DataFrame(),proj_name=''):\n",
    "    path = os.getcwd()+'/plots/'+proj_name+'/'\n",
    "    fType = 'heatmap'\n",
    "    \n",
    "    if proj_name!='':\n",
    "        path = os.getcwd()+'/plots/'+proj_name\n",
    "        try:\n",
    "            os.mkdir(path)\n",
    "        except:\n",
    "            pass\n",
    "    \n",
    "    for ver in df:  \n",
    "        corr = df[ver].corr('spearman')\n",
    "        \n",
    "        title = '%s  %s_%s'%(fType.upper(),proj_name,ver)\n",
    "        \n",
    "        f,ax = plt.subplots(figsize=(8,8))\n",
    "        ax.set_title(title)\n",
    "        mask = np.zeros_like(corr)\n",
    "        mask[np.triu_indices_from(mask)] = True\n",
    "\n",
    "        with sns.axes_style(\"white\"):\n",
    "            ax = sns.heatmap(corr, mask=mask, square=True, annot=True,linewidths=1)\n",
    "            plt.show()\n",
    "        if proj_name!='':\n",
    "            #print('saving at : %s/%s.jpg'%(path,title))\n",
    "            f.savefig('%s/%s.jpg'%(path,title))\n",
    "\n",
    "\n",
    "def plot_regressions(data=dict(),checkVar='',vsVarList=[],proj_name='',ylim=120):\n",
    "    \n",
    "    fType = 'regplot'\n",
    "    path = os.getcwd()+'/plots/'+proj_name+'/'+fType+'/'\n",
    "    \n",
    "    #Make Directory\n",
    "    if proj_name!='':\n",
    "        try:\n",
    "            os.mkdir(path)\n",
    "        except:\n",
    "            pass\n",
    "    \n",
    "    # for every version\n",
    "    for ver in data:\n",
    "        print('\\n',ver)\n",
    "        df = data[ver]\n",
    "        \n",
    "        # for every variable in vsVarList\n",
    "        for v in vsVarList:\n",
    "            title = '%svs%s  %s_%s'%(checkVar.upper(),v.upper(),proj_name,ver)\n",
    "            \n",
    "            f,ax = plt.subplots(figsize=(10,7))\n",
    "            ax.set_title(title)\n",
    "            ax.set_ylim([0,ylim])\n",
    "            sns.regplot(data=df,y=checkVar,x=v,fit_reg=True)\n",
    "            plt.show()\n",
    "            \n",
    "            if proj_name!='':\n",
    "                #print('saving at : %s/%s_%s.jpg'%(path,fType,ver))\n",
    "                f.savefig('%s/%s.jpg'%(path,title))\n"
   ]
  }
 ],
 "metadata": {
  "kernelspec": {
   "display_name": "Python 3",
   "language": "python",
   "name": "python3"
  },
  "language_info": {
   "codemirror_mode": {
    "name": "ipython",
    "version": 3
   },
   "file_extension": ".py",
   "mimetype": "text/x-python",
   "name": "python",
   "nbconvert_exporter": "python",
   "pygments_lexer": "ipython3",
   "version": "3.6.5"
  }
 },
 "nbformat": 4,
 "nbformat_minor": 2
}
