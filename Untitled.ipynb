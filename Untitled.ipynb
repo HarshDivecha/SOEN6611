{
 "cells": [
  {
   "cell_type": "code",
   "execution_count": 4,
   "metadata": {},
   "outputs": [],
   "source": [
    "import pandas as pd\n",
    "import seaborn as sns\n",
    "import matplotlib.pyplot as plt\n",
    "import os"
   ]
  },
  {
   "cell_type": "markdown",
   "metadata": {},
   "source": [
    "**Read all CSV files in a folder into a single dictionary**"
   ]
  },
  {
   "cell_type": "code",
   "execution_count": 243,
   "metadata": {},
   "outputs": [],
   "source": [
    "def createDataDict(projectDirName = str):\n",
    "       \n",
    "    def cleanDataFrame(df = pd.DataFrame):\n",
    "        df = df[df.Kind!='File']\n",
    "        df = df.rename(columns={'CountClassCoupled':'cbo',\n",
    "                                    'MaxInheritanceTree':'dit',\n",
    "                                    'SumCyclomatic':'wmc',\n",
    "                                    'CountClassDerived':'noc',\n",
    "                                    'PercentLackOfCohesion':'lcom',\n",
    "                                    'CountDeclMethodAll':'rfc',\n",
    "                                    'Cyclomatic':'cyclomatic',})\n",
    "        df.drop('CountLine',axis=1,inplace=True)\n",
    "        df.drop('CountLineCode',axis=1,inplace=True)\n",
    "        df.drop('Name',axis=1,inplace=True)\n",
    "        df.drop('Kind',axis=1,inplace=True)\n",
    "        return df\n",
    "\n",
    "    def getBadSmellBinary(data = pd.DataFrame()):\n",
    "\n",
    "        data['faultProne']=int(0);\n",
    "        data['badSmells']=int(0);\n",
    "\n",
    "        # applied to a row using lambda\n",
    "        def detectBadSmell(row):\n",
    "\n",
    "            #Long Method\n",
    "            if row.cyclomatic > 5:\n",
    "                row['faultProne'] = 1\n",
    "                row['badSmells']+=1\n",
    "            #Large Class\n",
    "            if row.dit > 5 :\n",
    "                row['faultProne'] = 1\n",
    "                row['badSmells']+=1\n",
    "            #Feature Envy    \n",
    "            if row.cbo > 5 :\n",
    "                row['faultProne'] = 1\n",
    "                row['badSmells']+=1\n",
    "            #Data Class\n",
    "            if row.lcom > 2 :\n",
    "                row['faultProne'] = 1\n",
    "                row['badSmells']+=1\n",
    "            #Large Class\n",
    "            if row.wmc > 10 :\n",
    "                row['faultProne'] = 1\n",
    "                row['badSmells']+=1\n",
    "\n",
    "            return row\n",
    "\n",
    "\n",
    "        return data.apply(lambda x:detectBadSmell(x),axis=1);\n",
    "    \n",
    "    \n",
    "    \n",
    "    path = os.getcwd()+\"/data/\"+projectDirName+\"/\"\n",
    "    directoryFiles = os.listdir(path)\n",
    "\n",
    "    versions = [ int(string.split('.')[1]) for string in directoryFiles]\n",
    "    versions.sort(reverse=False)\n",
    "\n",
    "    dataDict = dict()\n",
    "   \n",
    "    for version in versions:\n",
    "        version = str(version)\n",
    "        for file in directoryFiles:\n",
    "                if version in file:\n",
    "                    dataDict[file] = pd.read_csv(path+file)\n",
    "                    dataDict[file] = cleanDataFrame(pd.read_csv(path+file))\n",
    "                    dataDict[file] = getBadSmellBinary(dataDict[file])\n",
    "    \n",
    "    return dataDict"
   ]
  },
  {
   "cell_type": "markdown",
   "metadata": {},
   "source": [
    "---\n",
    "**Implementation:**\n",
    "\n",
    "---"
   ]
  },
  {
   "cell_type": "code",
   "execution_count": 233,
   "metadata": {},
   "outputs": [],
   "source": [
    "## READ FILES INTO DICTIONARY ##\n",
    "\n",
    "#mockito = createDataDict(\"Mockito\")\n",
    "#ant = createDataDict(\"Ant\")\n",
    "wildFly = createDataDict(\"WildFly\")\n",
    "\n",
    "wildFly1 = wildFly['widflyv8.0.csv']"
   ]
  },
  {
   "cell_type": "code",
   "execution_count": 239,
   "metadata": {},
   "outputs": [],
   "source": [
    "s = wildFly1.groupby('cbo')['faultProne'].sum()"
   ]
  },
  {
   "cell_type": "code",
   "execution_count": 247,
   "metadata": {},
   "outputs": [
    {
     "data": {
      "text/plain": [
       "<matplotlib.axes._subplots.AxesSubplot at 0x7f72b5281828>"
      ]
     },
     "execution_count": 247,
     "metadata": {},
     "output_type": "execute_result"
    },
    {
     "data": {
      "image/png": "[encoded data removed]",
      "text/plain": [
       "<Figure size 432x288 with 1 Axes>"
      ]
     },
     "metadata": {},
     "output_type": "display_data"
    }
   ],
   "source": [
    "sns.barplot(x=s.index,y=s.values)"
   ]
  }
 ],
 "metadata": {
  "kernelspec": {
   "display_name": "Python 3",
   "language": "python",
   "name": "python3"
  },
  "language_info": {
   "codemirror_mode": {
    "name": "ipython",
    "version": 3
   },
   "file_extension": ".py",
   "mimetype": "text/x-python",
   "name": "python",
   "nbconvert_exporter": "python",
   "pygments_lexer": "ipython3",
   "version": "3.6.5"
  }
 },
 "nbformat": 4,
 "nbformat_minor": 2
}
